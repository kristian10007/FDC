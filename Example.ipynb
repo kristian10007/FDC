{
 "cells": [
  {
   "cell_type": "code",
   "execution_count": 1,
   "id": "retained-option",
   "metadata": {},
   "outputs": [],
   "source": [
    "import sklearn.datasets\n",
    "import umap.umap_ as umap\n",
    "import pandas as pd\n",
    "from fdc.fdc import FDC\n",
    "from fdc.visualize import plotMapping"
   ]
  },
  {
   "cell_type": "code",
   "execution_count": 2,
   "id": "included-psychiatry",
   "metadata": {},
   "outputs": [],
   "source": [
    "dataset = sklearn.datasets.load_diabetes()"
   ]
  },
  {
   "cell_type": "code",
   "execution_count": 3,
   "id": "theoretical-sacramento",
   "metadata": {},
   "outputs": [
    {
     "name": "stdout",
     "output_type": "stream",
     "text": [
      "Shape: (442, 10)\n"
     ]
    }
   ],
   "source": [
    "print(f\"Shape: {dataset.data.shape}\")"
   ]
  },
  {
   "cell_type": "code",
   "execution_count": 4,
   "id": "sought-devil",
   "metadata": {},
   "outputs": [
    {
     "name": "stdout",
     "output_type": "stream",
     "text": [
      "Feature 0 'age': 58 items\n",
      "Feature 1 'sex': 2 items\n",
      "Feature 2 'bmi': 163 items\n",
      "Feature 3 'bp': 100 items\n",
      "Feature 4 's1': 141 items\n",
      "Feature 5 's2': 302 items\n",
      "Feature 6 's3': 63 items\n",
      "Feature 7 's4': 66 items\n",
      "Feature 8 's5': 184 items\n",
      "Feature 9 's6': 56 items\n"
     ]
    }
   ],
   "source": [
    "for c in range(dataset.data.shape[1]):\n",
    "    s = set(dataset.data[:,c])\n",
    "    print(f\"Feature {c} '{dataset.feature_names[c]}': {len(s)} items\")"
   ]
  },
  {
   "cell_type": "code",
   "execution_count": 5,
   "id": "hollywood-payment",
   "metadata": {},
   "outputs": [],
   "source": [
    "fdc = FDC()\n",
    "fdc.nom_list = [1]\n",
    "fdc.ord_list = [c for c in range(dataset.data.shape[1]) if c not in fdc.nom_list and c > 0 and len(set(dataset.data[:,c])) < 100]\n",
    "fdc.cont_list = [c for c in range(dataset.data.shape[1]) if c not in fdc.nom_list and c not in fdc.ord_list]"
   ]
  },
  {
   "cell_type": "code",
   "execution_count": 6,
   "id": "agricultural-bronze",
   "metadata": {},
   "outputs": [
    {
     "name": "stdout",
     "output_type": "stream",
     "text": [
      "FDC.normalize (init): 0.00002 / 0.000s\n",
      "FDC.normalize (clustering CONT): 6.73912 / 6.739s\n"
     ]
    },
    {
     "name": "stderr",
     "output_type": "stream",
     "text": [
      "/home/kristian/anaconda3/lib/python3.8/site-packages/umap/umap_.py:1495: UserWarning: custom distance metric does not return gradient; inverse_transform will be unavailable. To enable using inverse_transform method method, define a distance function that returns a tuple of (distance [float], gradient [np.array])\n",
      "  warn(\n"
     ]
    },
    {
     "name": "stdout",
     "output_type": "stream",
     "text": [
      "FDC.normalize (clustering ORD): 2.56922 / 9.308s\n"
     ]
    },
    {
     "name": "stderr",
     "output_type": "stream",
     "text": [
      "/home/kristian/anaconda3/lib/python3.8/site-packages/umap/umap_.py:1528: UserWarning: gradient function is not yet implemented for hamming distance metric; inverse_transform will be unavailable\n",
      "  warn(\n"
     ]
    },
    {
     "name": "stdout",
     "output_type": "stream",
     "text": [
      "FDC.normalize (clustering NOM): 5.49109 / 14.799s\n",
      "FDC.normalize (concat): 0.00037 / 14.800s\n",
      "FDC.normalize (total): 0.00007 / 14.800s\n"
     ]
    }
   ],
   "source": [
    "fdcData5d = fdc.normalize(dataset.data)"
   ]
  },
  {
   "cell_type": "code",
   "execution_count": 7,
   "id": "electoral-norway",
   "metadata": {},
   "outputs": [
    {
     "data": {
      "text/plain": [
       "array([[-1.1011691 ,  1.6770428 ,  0.08368308,  1.513274  ,  1.221569  ],\n",
       "       [ 0.78194   ,  0.5327575 , -1.1201099 , -1.9153475 , -0.75057316],\n",
       "       [-0.39193642,  1.8509052 ,  0.00549793,  1.5460734 ,  1.2236346 ],\n",
       "       ...,\n",
       "       [ 0.07670375,  1.4290007 ,  0.23283504,  0.95729214,  1.0690477 ],\n",
       "       [-0.04972544, -1.4419973 ,  1.1573405 ,  1.3241345 , -0.9784274 ],\n",
       "       [ 0.44485548, -0.48027363, -0.74873555, -1.3730495 , -0.9516387 ]],\n",
       "      dtype=float32)"
      ]
     },
     "execution_count": 7,
     "metadata": {},
     "output_type": "execute_result"
    }
   ],
   "source": [
    "fdcData5d"
   ]
  },
  {
   "cell_type": "code",
   "execution_count": 8,
   "id": "preliminary-award",
   "metadata": {},
   "outputs": [
    {
     "name": "stdout",
     "output_type": "stream",
     "text": [
      "FDC.normalize (init): 0.00002 / 0.000s\n",
      "FDC.normalize (clustering CONT): 2.36108 / 2.361s\n"
     ]
    },
    {
     "name": "stderr",
     "output_type": "stream",
     "text": [
      "/home/kristian/anaconda3/lib/python3.8/site-packages/umap/umap_.py:1495: UserWarning: custom distance metric does not return gradient; inverse_transform will be unavailable. To enable using inverse_transform method method, define a distance function that returns a tuple of (distance [float], gradient [np.array])\n",
      "  warn(\n"
     ]
    },
    {
     "name": "stdout",
     "output_type": "stream",
     "text": [
      "FDC.normalize (clustering ORD): 2.40287 / 4.764s\n"
     ]
    },
    {
     "name": "stderr",
     "output_type": "stream",
     "text": [
      "/home/kristian/anaconda3/lib/python3.8/site-packages/umap/umap_.py:1528: UserWarning: gradient function is not yet implemented for hamming distance metric; inverse_transform will be unavailable\n",
      "  warn(\n"
     ]
    },
    {
     "name": "stdout",
     "output_type": "stream",
     "text": [
      "FDC.normalize (clustering NOM): 5.58962 / 10.354s\n",
      "FDC.normalize (concat): 0.00034 / 10.354s\n",
      "FDC.normalize (umap 5 -> 2): 2.35685 / 12.711s\n",
      "FDC.normalize (total): 0.00030 / 12.711s\n"
     ]
    }
   ],
   "source": [
    "fdcData5d, fdcData2d = fdc.normalize(dataset.data, with_2d_embedding=True)"
   ]
  },
  {
   "cell_type": "code",
   "execution_count": 9,
   "id": "enormous-reviewer",
   "metadata": {},
   "outputs": [
    {
     "data": {
      "image/png": "[encoded data removed]",
      "text/plain": [
       "<Figure size 360x360 with 1 Axes>"
      ]
     },
     "metadata": {
      "needs_background": "light"
     },
     "output_type": "display_data"
    }
   ],
   "source": [
    "plotMapping(pd.DataFrame(data=fdcData2d, columns=['UMAP_0', 'UMAP_1']))"
   ]
  },
  {
   "cell_type": "code",
   "execution_count": 10,
   "id": "featured-optimum",
   "metadata": {},
   "outputs": [],
   "source": [
    "umapData = umap.UMAP(\n",
    "    n_neighbors=30\n",
    "    , min_dist=0.001\n",
    "    , n_components=2\n",
    "    , metric='euclidean'\n",
    "    , random_state=42\n",
    "    ).fit_transform(dataset.data)"
   ]
  },
  {
   "cell_type": "code",
   "execution_count": 11,
   "id": "white-enlargement",
   "metadata": {},
   "outputs": [
    {
     "data": {
      "image/png": "[encoded data removed]",
      "text/plain": [
       "<Figure size 360x360 with 1 Axes>"
      ]
     },
     "metadata": {
      "needs_background": "light"
     },
     "output_type": "display_data"
    }
   ],
   "source": [
    "plotMapping(pd.DataFrame(data=umapData, columns=['UMAP_0', 'UMAP_1']))"
   ]
  }
 ],
 "metadata": {
  "kernelspec": {
   "display_name": "Python 3",
   "language": "python",
   "name": "python3"
  },
  "language_info": {
   "codemirror_mode": {
    "name": "ipython",
    "version": 3
   },
   "file_extension": ".py",
   "mimetype": "text/x-python",
   "name": "python",
   "nbconvert_exporter": "python",
   "pygments_lexer": "ipython3",
   "version": "3.8.5"
  }
 },
 "nbformat": 4,
 "nbformat_minor": 5
}
